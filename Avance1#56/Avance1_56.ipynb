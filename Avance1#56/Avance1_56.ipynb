{
  "nbformat": 4,
  "nbformat_minor": 0,
  "metadata": {
    "colab": {
      "provenance": [],
      "machine_shape": "hm",
      "gpuType": "T4"
    },
    "kernelspec": {
      "name": "python3",
      "display_name": "Python 3"
    },
    "language_info": {
      "name": "python"
    },
    "accelerator": "GPU"
  },
  "cells": [
    {
      "cell_type": "markdown",
      "source": [
        "<img src=\"https://global.utsa.edu/tec-partnership/images/logos/logotipo-horizontal-azul-transparente.png\"  width=\"600\">"
      ],
      "metadata": {
        "id": "VX5EbWVv6A6w"
      }
    },
    {
      "cell_type": "markdown",
      "source": [
        "## **Avance 1: Proyecto Integrador**\n",
        "## Visualización interactiva de calidad de aire en AR en aplicaciones móviles con análisis y forecasting con AI y ML\n",
        "### **TC5035 - Proyecto Integrador (Gpo 10)**\n",
        "### **Equipo #56**\n",
        "#### Tecnológico de Monterrey\n",
        "---\n",
        "*   NOMBRE: Paulina Escalante Campbell\n",
        "*   MATRÍCULA: A01191962\n",
        "---\n",
        "### **Objetivo**\n",
        "\n",
        "El proyecto se basa en la revitalización y rediseño de “Aire”, una aplicación móvil con el objetivo de informar y concientizar sobre la calidad del aire en Monterrey y otras ciudades mexicanas, mediante el uso de realidad aumentada (AR). Se buscan encontrar insights y hace run análisis de la calidad de aire en las ciudades más populares del mundo.\n",
        "\n",
        "Para este avance del proyecto integrador se busca elegir las características más relevantes para reducir la dimensionalidad y aumentar la capacidad de generalización del modelo y abordar y corregir los problemas identificados en los datos."
      ],
      "metadata": {
        "id": "ngtwmn1n6DuL"
      }
    },
    {
      "cell_type": "code",
      "execution_count": 1,
      "metadata": {
        "colab": {
          "base_uri": "https://localhost:8080/"
        },
        "id": "V3lqMhUF52OG",
        "outputId": "31591598-769f-40f2-be31-679482dbded4"
      },
      "outputs": [
        {
          "output_type": "stream",
          "name": "stdout",
          "text": [
            "Mon Sep 29 00:51:37 2025       \n",
            "+-----------------------------------------------------------------------------------------+\n",
            "| NVIDIA-SMI 550.54.15              Driver Version: 550.54.15      CUDA Version: 12.4     |\n",
            "|-----------------------------------------+------------------------+----------------------+\n",
            "| GPU  Name                 Persistence-M | Bus-Id          Disp.A | Volatile Uncorr. ECC |\n",
            "| Fan  Temp   Perf          Pwr:Usage/Cap |           Memory-Usage | GPU-Util  Compute M. |\n",
            "|                                         |                        |               MIG M. |\n",
            "|=========================================+========================+======================|\n",
            "|   0  Tesla T4                       Off |   00000000:00:04.0 Off |                    0 |\n",
            "| N/A   53C    P8             12W /   70W |       0MiB /  15360MiB |      0%      Default |\n",
            "|                                         |                        |                  N/A |\n",
            "+-----------------------------------------+------------------------+----------------------+\n",
            "                                                                                         \n",
            "+-----------------------------------------------------------------------------------------+\n",
            "| Processes:                                                                              |\n",
            "|  GPU   GI   CI        PID   Type   Process name                              GPU Memory |\n",
            "|        ID   ID                                                               Usage      |\n",
            "|=========================================================================================|\n",
            "|  No running processes found                                                             |\n",
            "+-----------------------------------------------------------------------------------------+\n",
            "Mounted at /content/drive\n"
          ]
        }
      ],
      "source": [
        "# Setup inicial del proyecto con GPU y google drive, conectar a runtime de T4GPU\n",
        "gpu_info = !nvidia-smi\n",
        "gpu_info = '\\n'.join(gpu_info)\n",
        "if gpu_info.find('failed') >= 0:\n",
        "  print('Not connected to a GPU')\n",
        "else:\n",
        "  print(gpu_info)\n",
        "\n",
        "from google.colab import drive\n",
        "drive.mount('/content/drive')\n",
        "\n",
        "# Asegurarse que los datos han sido copiados a este directorio de google drive\n",
        "import os\n",
        "DIR = \"/content/drive/MyDrive/Colab Notebooks/ProyectoIntegrador\"\n",
        "os.chdir(DIR)"
      ]
    },
    {
      "cell_type": "code",
      "source": [
        "# Imports para análisis de datos y visualizaciones\n",
        "import pandas as pd\n",
        "import matplotlib.pyplot as plt\n",
        "import numpy as np\n",
        "import seaborn as sns"
      ],
      "metadata": {
        "id": "rJ5J_oL16Bax"
      },
      "execution_count": 2,
      "outputs": []
    },
    {
      "cell_type": "code",
      "source": [],
      "metadata": {
        "id": "HHul10o28ugT"
      },
      "execution_count": null,
      "outputs": []
    }
  ]
}