{
  "nbformat": 4,
  "nbformat_minor": 0,
  "metadata": {
    "colab": {
      "provenance": [],
      "machine_shape": "hm",
      "gpuType": "T4"
    },
    "kernelspec": {
      "name": "python3",
      "display_name": "Python 3"
    },
    "language_info": {
      "name": "python"
    },
    "accelerator": "GPU"
  },
  "cells": [
    {
      "cell_type": "markdown",
      "source": [
        "<img src=\"https://global.utsa.edu/tec-partnership/images/logos/logotipo-horizontal-azul-transparente.png\"  width=\"600\">"
      ],
      "metadata": {
        "id": "VX5EbWVv6A6w"
      }
    },
    {
      "cell_type": "markdown",
      "source": [
        "## **Avance 4: Proyecto Integrador**\n",
        "## Visualización interactiva de calidad de aire en AR en aplicaciones móviles con análisis y forecasting con AI y ML\n",
        "### **TC5035 - Proyecto Integrador (Gpo 10)**\n",
        "### **Equipo #56**\n",
        "#### Tecnológico de Monterrey\n",
        "---\n",
        "*   NOMBRE: Paulina Escalante Campbell\n",
        "*   MATRÍCULA: A01191962\n",
        "\n",
        "\n",
        "### **Objetivo**\n",
        "---\n",
        "**Optimización de hiperparámetros**\n",
        "\n",
        "Cuando se trabaja en un proyecto de ML, es común explorar y comparar varios modelos para determinar cuál se ajusta mejor a los datos y produce las predicciones más precisas. Una vez que has establecido un modelo de referencia o baseline, es momento de construir modelos alternativos. Estos modelos pueden diferir en términos de complejidad, enfoque matemático, suposiciones subyacentes y la manera en que manejan los datos.\n",
        "\n",
        "> Una vez que has obtenido un número considerable de modelos alternativos, enfócate en los más prometedores en términos de la métrica de desempeño que es importante para tu caso de negocio. Ahora necesitas ajustarlos…\n",
        "\n",
        "Este avance implica construir múltiples modelos (individuales, no ensambles) relevantes para resolver el problema y evaluar su desempeño. Diferentes algoritmos pueden comportarse de manera óptima en diferentes tipos de datos o tareas. La construcción de modelos alternativos permite explorar y evaluar cuál de ellos proporciona el mejor rendimiento para un problema particular.\n",
        "Además, los modelos se pueden ajustar para determinar si se puede mejorar su rendimiento. Diferentes configuraciones de hiperparámetros pueden afectar significativamente el rendimiento de un modelo. Construir modelos alternativos implica explorar y ajustar estos hiperparámetros para encontrar la configuración óptima.\n",
        "\n",
        "Las siguientes son acciones que deberás abordar en este avance:\n",
        "* Construir al menos 6 modelos diferentes (individuales, no ensambles), utilizando algoritmos variados.\n",
        "* Comparar el rendimiento de los modelos obtenidos.\n",
        "* Seleccionar los dos modelos que proporcionen el mejor rendimiento.\n",
        "* Ajustar los dos mejores modelos.\n",
        "* Elegir el modelo individual final.\n",
        "\n",
        "\n",
        "\n",
        "### **Dataset Inicial**\n",
        "---\n",
        "Global Air Quality Dataset 🌍\n",
        "Comprehensive Air Quality Measurements from Major Cities Worldwide 🌍\n",
        "https://www.kaggle.com/datasets/sazidthe1/global-air-pollution-data/data\n",
        "\n",
        "### Diccionario de variables del dataset de calidad del aire\n",
        "\n",
        "| Columna               | Descripción                                                                                 |\n",
        "|-----------------------|---------------------------------------------------------------------------------------------|\n",
        "| `country_name`        | Name of the Country                                                                         |\n",
        "| `city_name`           | Name of the City                                                                            |\n",
        "| `aqi_value`           | Overall AQI value of the city                                                               |\n",
        "| `aqi_category`        | Overall AQI category of the city                                                            |\n",
        "| `co_aqi_value`        | AQI value of Carbon Monoxide of the city                                                    |\n",
        "| `co_aqi_category`     | AQI category of Carbon Monoxide of the city                                                 |\n",
        "| `ozone_aqi_value`     | AQI value of Ozone of the city                                                              |\n",
        "| `ozone_aqi_category`  | AQI category of Ozone of the city                                                           |\n",
        "| `no2_aqi_value`       | AQI value of Nitrogen Dioxide of the city                                                  |\n",
        "| `no2_aqi_category`    | AQI category of Nitrogen Dioxide of the city                                               |\n",
        "| `pm2.5_aqi_value`     | AQI value of Particulate Matter (≤ 2.5 micrometers) of the city                             |\n",
        "| `pm2.5_aqi_category`  | AQI category of Particulate Matter (≤ 2.5 micrometers) of the city                          |\n",
        "\n"
      ],
      "metadata": {
        "id": "ngtwmn1n6DuL"
      }
    },
    {
      "cell_type": "markdown",
      "source": [
        "### **Leer archivos, imports y google cloud drive**"
      ],
      "metadata": {
        "id": "jEFi7A8oxKJH"
      }
    },
    {
      "cell_type": "code",
      "execution_count": null,
      "metadata": {
        "colab": {
          "base_uri": "https://localhost:8080/"
        },
        "id": "V3lqMhUF52OG",
        "outputId": "eb715806-87b0-42bd-90e2-fc5c59a81be5"
      },
      "outputs": [
        {
          "output_type": "stream",
          "name": "stdout",
          "text": [
            "Tue Oct 14 03:17:05 2025       \n",
            "+-----------------------------------------------------------------------------------------+\n",
            "| NVIDIA-SMI 550.54.15              Driver Version: 550.54.15      CUDA Version: 12.4     |\n",
            "|-----------------------------------------+------------------------+----------------------+\n",
            "| GPU  Name                 Persistence-M | Bus-Id          Disp.A | Volatile Uncorr. ECC |\n",
            "| Fan  Temp   Perf          Pwr:Usage/Cap |           Memory-Usage | GPU-Util  Compute M. |\n",
            "|                                         |                        |               MIG M. |\n",
            "|=========================================+========================+======================|\n",
            "|   0  Tesla T4                       Off |   00000000:00:04.0 Off |                    0 |\n",
            "| N/A   37C    P8              9W /   70W |       0MiB /  15360MiB |      0%      Default |\n",
            "|                                         |                        |                  N/A |\n",
            "+-----------------------------------------+------------------------+----------------------+\n",
            "                                                                                         \n",
            "+-----------------------------------------------------------------------------------------+\n",
            "| Processes:                                                                              |\n",
            "|  GPU   GI   CI        PID   Type   Process name                              GPU Memory |\n",
            "|        ID   ID                                                               Usage      |\n",
            "|=========================================================================================|\n",
            "|  No running processes found                                                             |\n",
            "+-----------------------------------------------------------------------------------------+\n",
            "Your runtime has 54.8 gigabytes of available RAM\n",
            "\n",
            "You are using a high-RAM runtime!\n",
            "Mounted at /content/drive\n"
          ]
        }
      ],
      "source": [
        "# Setup inicial del proyecto con GPU y google drive, conectar a runtime de T4GPU\n",
        "gpu_info = !nvidia-smi\n",
        "gpu_info = '\\n'.join(gpu_info)\n",
        "if gpu_info.find('failed') >= 0:\n",
        "  print('Not connected to a GPU')\n",
        "else:\n",
        "  print(gpu_info)\n",
        "\n",
        "import psutil\n",
        "\n",
        "ram_gb = psutil.virtual_memory().total / 1e9\n",
        "print('Your runtime has {:.1f} gigabytes of available RAM\\n'.format(ram_gb))\n",
        "\n",
        "if ram_gb < 20:\n",
        "  print('Not using a high-RAM runtime')\n",
        "else:\n",
        "  print('You are using a high-RAM runtime!')\n",
        "\n",
        "from google.colab import drive\n",
        "drive.mount('/content/drive')\n",
        "\n",
        "# Asegurarse que los datos han sido copiados a este directorio de google drive\n",
        "import os\n",
        "DIR = \"/content/drive/MyDrive/Colab Notebooks/ProyectoIntegrador\"\n",
        "os.chdir(DIR)"
      ]
    },
    {
      "cell_type": "code",
      "source": [
        "# Imports para análisis de datos y visualizaciones\n",
        "import pandas as pd\n",
        "import matplotlib.pyplot as plt\n",
        "import numpy as np\n",
        "import seaborn as sns\n",
        "import plotly.express as px\n",
        "\n",
        "# Networking imports\n",
        "import requests\n",
        "import time\n",
        "import unicodedata\n",
        "\n",
        "# Normalizing\n",
        "from scipy import stats\n",
        "from sklearn.preprocessing import StandardScaler, MinMaxScaler, RobustScaler, PowerTransformer\n",
        "from sklearn.feature_selection import VarianceThreshold, SelectKBest, chi2, f_classif, mutual_info_classif\n",
        "from sklearn.decomposition import PCA, FactorAnalysis\n",
        "from sklearn.preprocessing import LabelEncoder\n",
        "from sklearn.model_selection import cross_val_score\n",
        "from sklearn.model_selection import train_test_split, cross_val_score, GridSearchCV, KFold, learning_curve\n",
        "\n",
        "# Models\n",
        "from sklearn.metrics import mean_squared_error, mean_absolute_error, r2_score\n",
        "from sklearn.linear_model import LinearRegression\n",
        "from sklearn.tree import DecisionTreeRegressor\n",
        "from sklearn.ensemble import RandomForestRegressor\n",
        "from sklearn.dummy import DummyRegressor\n",
        "from sklearn.neighbors import KNeighborsRegressor\n",
        "from sklearn.svm import SVR\n",
        "from sklearn.neural_network import MLPRegressor\n",
        "import pickle\n",
        "\n",
        "# characteristics\n",
        "from sklearn.feature_selection import (\n",
        "    SelectKBest, f_regression, mutual_info_regression,\n",
        "    RFE, SequentialFeatureSelector\n",
        ")\n",
        "from sklearn.inspection import permutation_importance\n",
        "from sklearn.decomposition import PCA\n",
        "from sklearn.metrics import (\n",
        "    confusion_matrix, classification_report, accuracy_score\n",
        ")\n",
        "\n",
        "import warnings\n",
        "warnings.filterwarnings('ignore')"
      ],
      "metadata": {
        "id": "rJ5J_oL16Bax"
      },
      "execution_count": null,
      "outputs": []
    },
    {
      "cell_type": "code",
      "source": [
        "# Usar el dataset final del Avance 2 (con features seleccionadas), datos ya están preprocesados con el Avance 1, 2 y 3\n",
        "df_selected = pd.read_csv('data_features_selected_clean.csv')  # 7 features seleccionadas + target\n",
        "\n",
        "# Exploramos el modelo con dos posibles features\n",
        "df = df_selected\n",
        "df"
      ],
      "metadata": {
        "colab": {
          "base_uri": "https://localhost:8080/",
          "height": 411
        },
        "id": "HHul10o28ugT",
        "outputId": "d6f1d7bd-44c1-4e0f-f676-d30616f847fd"
      },
      "execution_count": null,
      "outputs": [
        {
          "output_type": "execute_result",
          "data": {
            "text/plain": [
              "       co_aqi_value  ozone_aqi_value  distance_from_equator  pm25_no2_ratio  \\\n",
              "0         -0.257657        -1.010310              -1.609334       -0.429844   \n",
              "1         -0.257657         0.014283               0.441423       -0.399228   \n",
              "2         -0.257657        -0.136393               1.461118       -0.440050   \n",
              "3         -0.257657        -0.106258               1.220933       -0.531899   \n",
              "4         -0.257657        -0.287068               1.336271       -0.684980   \n",
              "...             ...              ...                    ...             ...   \n",
              "16754      0.898454         3.660628               0.148227       -0.042038   \n",
              "16755     -0.257657         0.014283               1.206799       -0.123682   \n",
              "16756      0.898454         3.479818              -0.205231        0.403599   \n",
              "16757     -0.257657        -0.558284               1.188464       -0.678176   \n",
              "16758     -0.257657        -0.015852              -1.614764        0.580493   \n",
              "\n",
              "       ozone_co_ratio  country_mean_aqi  aqi_value  \n",
              "0           -1.493037         -0.836505  -0.609049  \n",
              "1            0.213691         -0.452705  -0.247782  \n",
              "2           -0.037298         -0.663941  -0.710203  \n",
              "3            0.012900         -0.750846  -0.305584  \n",
              "4           -0.288288         -0.828714  -0.276683  \n",
              "...               ...               ...        ...  \n",
              "16754        2.271804          0.994122   1.110582  \n",
              "16755        0.213691         -0.328210  -0.175528  \n",
              "16756        2.121211          1.673678   1.457398  \n",
              "16757       -0.740068         -0.661446  -0.478993  \n",
              "16758        0.163493         -0.037182  -0.189979  \n",
              "\n",
              "[16759 rows x 7 columns]"
            ],
            "text/html": [
              "\n",
              "  <div id=\"df-136cfa43-9d50-4f8c-8895-6f7cf56ea340\" class=\"colab-df-container\">\n",
              "    <div>\n",
              "<style scoped>\n",
              "    .dataframe tbody tr th:only-of-type {\n",
              "        vertical-align: middle;\n",
              "    }\n",
              "\n",
              "    .dataframe tbody tr th {\n",
              "        vertical-align: top;\n",
              "    }\n",
              "\n",
              "    .dataframe thead th {\n",
              "        text-align: right;\n",
              "    }\n",
              "</style>\n",
              "<table border=\"1\" class=\"dataframe\">\n",
              "  <thead>\n",
              "    <tr style=\"text-align: right;\">\n",
              "      <th></th>\n",
              "      <th>co_aqi_value</th>\n",
              "      <th>ozone_aqi_value</th>\n",
              "      <th>distance_from_equator</th>\n",
              "      <th>pm25_no2_ratio</th>\n",
              "      <th>ozone_co_ratio</th>\n",
              "      <th>country_mean_aqi</th>\n",
              "      <th>aqi_value</th>\n",
              "    </tr>\n",
              "  </thead>\n",
              "  <tbody>\n",
              "    <tr>\n",
              "      <th>0</th>\n",
              "      <td>-0.257657</td>\n",
              "      <td>-1.010310</td>\n",
              "      <td>-1.609334</td>\n",
              "      <td>-0.429844</td>\n",
              "      <td>-1.493037</td>\n",
              "      <td>-0.836505</td>\n",
              "      <td>-0.609049</td>\n",
              "    </tr>\n",
              "    <tr>\n",
              "      <th>1</th>\n",
              "      <td>-0.257657</td>\n",
              "      <td>0.014283</td>\n",
              "      <td>0.441423</td>\n",
              "      <td>-0.399228</td>\n",
              "      <td>0.213691</td>\n",
              "      <td>-0.452705</td>\n",
              "      <td>-0.247782</td>\n",
              "    </tr>\n",
              "    <tr>\n",
              "      <th>2</th>\n",
              "      <td>-0.257657</td>\n",
              "      <td>-0.136393</td>\n",
              "      <td>1.461118</td>\n",
              "      <td>-0.440050</td>\n",
              "      <td>-0.037298</td>\n",
              "      <td>-0.663941</td>\n",
              "      <td>-0.710203</td>\n",
              "    </tr>\n",
              "    <tr>\n",
              "      <th>3</th>\n",
              "      <td>-0.257657</td>\n",
              "      <td>-0.106258</td>\n",
              "      <td>1.220933</td>\n",
              "      <td>-0.531899</td>\n",
              "      <td>0.012900</td>\n",
              "      <td>-0.750846</td>\n",
              "      <td>-0.305584</td>\n",
              "    </tr>\n",
              "    <tr>\n",
              "      <th>4</th>\n",
              "      <td>-0.257657</td>\n",
              "      <td>-0.287068</td>\n",
              "      <td>1.336271</td>\n",
              "      <td>-0.684980</td>\n",
              "      <td>-0.288288</td>\n",
              "      <td>-0.828714</td>\n",
              "      <td>-0.276683</td>\n",
              "    </tr>\n",
              "    <tr>\n",
              "      <th>...</th>\n",
              "      <td>...</td>\n",
              "      <td>...</td>\n",
              "      <td>...</td>\n",
              "      <td>...</td>\n",
              "      <td>...</td>\n",
              "      <td>...</td>\n",
              "      <td>...</td>\n",
              "    </tr>\n",
              "    <tr>\n",
              "      <th>16754</th>\n",
              "      <td>0.898454</td>\n",
              "      <td>3.660628</td>\n",
              "      <td>0.148227</td>\n",
              "      <td>-0.042038</td>\n",
              "      <td>2.271804</td>\n",
              "      <td>0.994122</td>\n",
              "      <td>1.110582</td>\n",
              "    </tr>\n",
              "    <tr>\n",
              "      <th>16755</th>\n",
              "      <td>-0.257657</td>\n",
              "      <td>0.014283</td>\n",
              "      <td>1.206799</td>\n",
              "      <td>-0.123682</td>\n",
              "      <td>0.213691</td>\n",
              "      <td>-0.328210</td>\n",
              "      <td>-0.175528</td>\n",
              "    </tr>\n",
              "    <tr>\n",
              "      <th>16756</th>\n",
              "      <td>0.898454</td>\n",
              "      <td>3.479818</td>\n",
              "      <td>-0.205231</td>\n",
              "      <td>0.403599</td>\n",
              "      <td>2.121211</td>\n",
              "      <td>1.673678</td>\n",
              "      <td>1.457398</td>\n",
              "    </tr>\n",
              "    <tr>\n",
              "      <th>16757</th>\n",
              "      <td>-0.257657</td>\n",
              "      <td>-0.558284</td>\n",
              "      <td>1.188464</td>\n",
              "      <td>-0.678176</td>\n",
              "      <td>-0.740068</td>\n",
              "      <td>-0.661446</td>\n",
              "      <td>-0.478993</td>\n",
              "    </tr>\n",
              "    <tr>\n",
              "      <th>16758</th>\n",
              "      <td>-0.257657</td>\n",
              "      <td>-0.015852</td>\n",
              "      <td>-1.614764</td>\n",
              "      <td>0.580493</td>\n",
              "      <td>0.163493</td>\n",
              "      <td>-0.037182</td>\n",
              "      <td>-0.189979</td>\n",
              "    </tr>\n",
              "  </tbody>\n",
              "</table>\n",
              "<p>16759 rows × 7 columns</p>\n",
              "</div>\n",
              "    <div class=\"colab-df-buttons\">\n",
              "\n",
              "  <div class=\"colab-df-container\">\n",
              "    <button class=\"colab-df-convert\" onclick=\"convertToInteractive('df-136cfa43-9d50-4f8c-8895-6f7cf56ea340')\"\n",
              "            title=\"Convert this dataframe to an interactive table.\"\n",
              "            style=\"display:none;\">\n",
              "\n",
              "  <svg xmlns=\"http://www.w3.org/2000/svg\" height=\"24px\" viewBox=\"0 -960 960 960\">\n",
              "    <path d=\"M120-120v-720h720v720H120Zm60-500h600v-160H180v160Zm220 220h160v-160H400v160Zm0 220h160v-160H400v160ZM180-400h160v-160H180v160Zm440 0h160v-160H620v160ZM180-180h160v-160H180v160Zm440 0h160v-160H620v160Z\"/>\n",
              "  </svg>\n",
              "    </button>\n",
              "\n",
              "  <style>\n",
              "    .colab-df-container {\n",
              "      display:flex;\n",
              "      gap: 12px;\n",
              "    }\n",
              "\n",
              "    .colab-df-convert {\n",
              "      background-color: #E8F0FE;\n",
              "      border: none;\n",
              "      border-radius: 50%;\n",
              "      cursor: pointer;\n",
              "      display: none;\n",
              "      fill: #1967D2;\n",
              "      height: 32px;\n",
              "      padding: 0 0 0 0;\n",
              "      width: 32px;\n",
              "    }\n",
              "\n",
              "    .colab-df-convert:hover {\n",
              "      background-color: #E2EBFA;\n",
              "      box-shadow: 0px 1px 2px rgba(60, 64, 67, 0.3), 0px 1px 3px 1px rgba(60, 64, 67, 0.15);\n",
              "      fill: #174EA6;\n",
              "    }\n",
              "\n",
              "    .colab-df-buttons div {\n",
              "      margin-bottom: 4px;\n",
              "    }\n",
              "\n",
              "    [theme=dark] .colab-df-convert {\n",
              "      background-color: #3B4455;\n",
              "      fill: #D2E3FC;\n",
              "    }\n",
              "\n",
              "    [theme=dark] .colab-df-convert:hover {\n",
              "      background-color: #434B5C;\n",
              "      box-shadow: 0px 1px 3px 1px rgba(0, 0, 0, 0.15);\n",
              "      filter: drop-shadow(0px 1px 2px rgba(0, 0, 0, 0.3));\n",
              "      fill: #FFFFFF;\n",
              "    }\n",
              "  </style>\n",
              "\n",
              "    <script>\n",
              "      const buttonEl =\n",
              "        document.querySelector('#df-136cfa43-9d50-4f8c-8895-6f7cf56ea340 button.colab-df-convert');\n",
              "      buttonEl.style.display =\n",
              "        google.colab.kernel.accessAllowed ? 'block' : 'none';\n",
              "\n",
              "      async function convertToInteractive(key) {\n",
              "        const element = document.querySelector('#df-136cfa43-9d50-4f8c-8895-6f7cf56ea340');\n",
              "        const dataTable =\n",
              "          await google.colab.kernel.invokeFunction('convertToInteractive',\n",
              "                                                    [key], {});\n",
              "        if (!dataTable) return;\n",
              "\n",
              "        const docLinkHtml = 'Like what you see? Visit the ' +\n",
              "          '<a target=\"_blank\" href=https://colab.research.google.com/notebooks/data_table.ipynb>data table notebook</a>'\n",
              "          + ' to learn more about interactive tables.';\n",
              "        element.innerHTML = '';\n",
              "        dataTable['output_type'] = 'display_data';\n",
              "        await google.colab.output.renderOutput(dataTable, element);\n",
              "        const docLink = document.createElement('div');\n",
              "        docLink.innerHTML = docLinkHtml;\n",
              "        element.appendChild(docLink);\n",
              "      }\n",
              "    </script>\n",
              "  </div>\n",
              "\n",
              "\n",
              "    <div id=\"df-b9966e8b-ab86-412f-9b1b-d86564c1be21\">\n",
              "      <button class=\"colab-df-quickchart\" onclick=\"quickchart('df-b9966e8b-ab86-412f-9b1b-d86564c1be21')\"\n",
              "                title=\"Suggest charts\"\n",
              "                style=\"display:none;\">\n",
              "\n",
              "<svg xmlns=\"http://www.w3.org/2000/svg\" height=\"24px\"viewBox=\"0 0 24 24\"\n",
              "     width=\"24px\">\n",
              "    <g>\n",
              "        <path d=\"M19 3H5c-1.1 0-2 .9-2 2v14c0 1.1.9 2 2 2h14c1.1 0 2-.9 2-2V5c0-1.1-.9-2-2-2zM9 17H7v-7h2v7zm4 0h-2V7h2v10zm4 0h-2v-4h2v4z\"/>\n",
              "    </g>\n",
              "</svg>\n",
              "      </button>\n",
              "\n",
              "<style>\n",
              "  .colab-df-quickchart {\n",
              "      --bg-color: #E8F0FE;\n",
              "      --fill-color: #1967D2;\n",
              "      --hover-bg-color: #E2EBFA;\n",
              "      --hover-fill-color: #174EA6;\n",
              "      --disabled-fill-color: #AAA;\n",
              "      --disabled-bg-color: #DDD;\n",
              "  }\n",
              "\n",
              "  [theme=dark] .colab-df-quickchart {\n",
              "      --bg-color: #3B4455;\n",
              "      --fill-color: #D2E3FC;\n",
              "      --hover-bg-color: #434B5C;\n",
              "      --hover-fill-color: #FFFFFF;\n",
              "      --disabled-bg-color: #3B4455;\n",
              "      --disabled-fill-color: #666;\n",
              "  }\n",
              "\n",
              "  .colab-df-quickchart {\n",
              "    background-color: var(--bg-color);\n",
              "    border: none;\n",
              "    border-radius: 50%;\n",
              "    cursor: pointer;\n",
              "    display: none;\n",
              "    fill: var(--fill-color);\n",
              "    height: 32px;\n",
              "    padding: 0;\n",
              "    width: 32px;\n",
              "  }\n",
              "\n",
              "  .colab-df-quickchart:hover {\n",
              "    background-color: var(--hover-bg-color);\n",
              "    box-shadow: 0 1px 2px rgba(60, 64, 67, 0.3), 0 1px 3px 1px rgba(60, 64, 67, 0.15);\n",
              "    fill: var(--button-hover-fill-color);\n",
              "  }\n",
              "\n",
              "  .colab-df-quickchart-complete:disabled,\n",
              "  .colab-df-quickchart-complete:disabled:hover {\n",
              "    background-color: var(--disabled-bg-color);\n",
              "    fill: var(--disabled-fill-color);\n",
              "    box-shadow: none;\n",
              "  }\n",
              "\n",
              "  .colab-df-spinner {\n",
              "    border: 2px solid var(--fill-color);\n",
              "    border-color: transparent;\n",
              "    border-bottom-color: var(--fill-color);\n",
              "    animation:\n",
              "      spin 1s steps(1) infinite;\n",
              "  }\n",
              "\n",
              "  @keyframes spin {\n",
              "    0% {\n",
              "      border-color: transparent;\n",
              "      border-bottom-color: var(--fill-color);\n",
              "      border-left-color: var(--fill-color);\n",
              "    }\n",
              "    20% {\n",
              "      border-color: transparent;\n",
              "      border-left-color: var(--fill-color);\n",
              "      border-top-color: var(--fill-color);\n",
              "    }\n",
              "    30% {\n",
              "      border-color: transparent;\n",
              "      border-left-color: var(--fill-color);\n",
              "      border-top-color: var(--fill-color);\n",
              "      border-right-color: var(--fill-color);\n",
              "    }\n",
              "    40% {\n",
              "      border-color: transparent;\n",
              "      border-right-color: var(--fill-color);\n",
              "      border-top-color: var(--fill-color);\n",
              "    }\n",
              "    60% {\n",
              "      border-color: transparent;\n",
              "      border-right-color: var(--fill-color);\n",
              "    }\n",
              "    80% {\n",
              "      border-color: transparent;\n",
              "      border-right-color: var(--fill-color);\n",
              "      border-bottom-color: var(--fill-color);\n",
              "    }\n",
              "    90% {\n",
              "      border-color: transparent;\n",
              "      border-bottom-color: var(--fill-color);\n",
              "    }\n",
              "  }\n",
              "</style>\n",
              "\n",
              "      <script>\n",
              "        async function quickchart(key) {\n",
              "          const quickchartButtonEl =\n",
              "            document.querySelector('#' + key + ' button');\n",
              "          quickchartButtonEl.disabled = true;  // To prevent multiple clicks.\n",
              "          quickchartButtonEl.classList.add('colab-df-spinner');\n",
              "          try {\n",
              "            const charts = await google.colab.kernel.invokeFunction(\n",
              "                'suggestCharts', [key], {});\n",
              "          } catch (error) {\n",
              "            console.error('Error during call to suggestCharts:', error);\n",
              "          }\n",
              "          quickchartButtonEl.classList.remove('colab-df-spinner');\n",
              "          quickchartButtonEl.classList.add('colab-df-quickchart-complete');\n",
              "        }\n",
              "        (() => {\n",
              "          let quickchartButtonEl =\n",
              "            document.querySelector('#df-b9966e8b-ab86-412f-9b1b-d86564c1be21 button');\n",
              "          quickchartButtonEl.style.display =\n",
              "            google.colab.kernel.accessAllowed ? 'block' : 'none';\n",
              "        })();\n",
              "      </script>\n",
              "    </div>\n",
              "\n",
              "  <div id=\"id_b25f624c-35c9-4115-b40e-fcbb9a6a8ed2\">\n",
              "    <style>\n",
              "      .colab-df-generate {\n",
              "        background-color: #E8F0FE;\n",
              "        border: none;\n",
              "        border-radius: 50%;\n",
              "        cursor: pointer;\n",
              "        display: none;\n",
              "        fill: #1967D2;\n",
              "        height: 32px;\n",
              "        padding: 0 0 0 0;\n",
              "        width: 32px;\n",
              "      }\n",
              "\n",
              "      .colab-df-generate:hover {\n",
              "        background-color: #E2EBFA;\n",
              "        box-shadow: 0px 1px 2px rgba(60, 64, 67, 0.3), 0px 1px 3px 1px rgba(60, 64, 67, 0.15);\n",
              "        fill: #174EA6;\n",
              "      }\n",
              "\n",
              "      [theme=dark] .colab-df-generate {\n",
              "        background-color: #3B4455;\n",
              "        fill: #D2E3FC;\n",
              "      }\n",
              "\n",
              "      [theme=dark] .colab-df-generate:hover {\n",
              "        background-color: #434B5C;\n",
              "        box-shadow: 0px 1px 3px 1px rgba(0, 0, 0, 0.15);\n",
              "        filter: drop-shadow(0px 1px 2px rgba(0, 0, 0, 0.3));\n",
              "        fill: #FFFFFF;\n",
              "      }\n",
              "    </style>\n",
              "    <button class=\"colab-df-generate\" onclick=\"generateWithVariable('df_selected')\"\n",
              "            title=\"Generate code using this dataframe.\"\n",
              "            style=\"display:none;\">\n",
              "\n",
              "  <svg xmlns=\"http://www.w3.org/2000/svg\" height=\"24px\"viewBox=\"0 0 24 24\"\n",
              "       width=\"24px\">\n",
              "    <path d=\"M7,19H8.4L18.45,9,17,7.55,7,17.6ZM5,21V16.75L18.45,3.32a2,2,0,0,1,2.83,0l1.4,1.43a1.91,1.91,0,0,1,.58,1.4,1.91,1.91,0,0,1-.58,1.4L9.25,21ZM18.45,9,17,7.55Zm-12,3A5.31,5.31,0,0,0,4.9,8.1,5.31,5.31,0,0,0,1,6.5,5.31,5.31,0,0,0,4.9,4.9,5.31,5.31,0,0,0,6.5,1,5.31,5.31,0,0,0,8.1,4.9,5.31,5.31,0,0,0,12,6.5,5.46,5.46,0,0,0,6.5,12Z\"/>\n",
              "  </svg>\n",
              "    </button>\n",
              "    <script>\n",
              "      (() => {\n",
              "      const buttonEl =\n",
              "        document.querySelector('#id_b25f624c-35c9-4115-b40e-fcbb9a6a8ed2 button.colab-df-generate');\n",
              "      buttonEl.style.display =\n",
              "        google.colab.kernel.accessAllowed ? 'block' : 'none';\n",
              "\n",
              "      buttonEl.onclick = () => {\n",
              "        google.colab.notebook.generateWithVariable('df_selected');\n",
              "      }\n",
              "      })();\n",
              "    </script>\n",
              "  </div>\n",
              "\n",
              "    </div>\n",
              "  </div>\n"
            ],
            "application/vnd.google.colaboratory.intrinsic+json": {
              "type": "dataframe",
              "variable_name": "df_selected",
              "summary": "{\n  \"name\": \"df_selected\",\n  \"rows\": 16759,\n  \"fields\": [\n    {\n      \"column\": \"co_aqi_value\",\n      \"properties\": {\n        \"dtype\": \"number\",\n        \"std\": 1.0000298360508693,\n        \"min\": -0.8357126082150659,\n        \"max\": 37.89400835724416,\n        \"num_unique_values\": 30,\n        \"samples\": [\n          27.48900869488197,\n          5.52289829656182,\n          11.303453664540807\n        ],\n        \"semantic_type\": \"\",\n        \"description\": \"\"\n      }\n    },\n    {\n      \"column\": \"ozone_aqi_value\",\n      \"properties\": {\n        \"dtype\": \"number\",\n        \"std\": 1.0000298360508948,\n        \"min\": -1.1609856968692582,\n        \"max\": 5.167382342719345,\n        \"num_unique_values\": 209,\n        \"samples\": [\n          -1.0705804391608498,\n          4.474275366954879,\n          3.630492961676399\n        ],\n        \"semantic_type\": \"\",\n        \"description\": \"\"\n      }\n    },\n    {\n      \"column\": \"distance_from_equator\",\n      \"properties\": {\n        \"dtype\": \"number\",\n        \"std\": 1.0000298360509048,\n        \"min\": -1.949275301506312,\n        \"max\": 2.41540391362614,\n        \"num_unique_values\": 14318,\n        \"samples\": [\n          0.0904421530025013,\n          -0.6267216573667134,\n          0.5353507017344451\n        ],\n        \"semantic_type\": \"\",\n        \"description\": \"\"\n      }\n    },\n    {\n      \"column\": \"pm25_no2_ratio\",\n      \"properties\": {\n        \"dtype\": \"number\",\n        \"std\": 1.0000298360509006,\n        \"min\": -0.8482666698407945,\n        \"max\": 9.35715671818742,\n        \"num_unique_values\": 1571,\n        \"samples\": [\n          -0.6181807607288855,\n          0.3253570197824503,\n          -0.4559248373677097\n        ],\n        \"semantic_type\": \"\",\n        \"description\": \"\"\n      }\n    },\n    {\n      \"column\": \"ozone_co_ratio\",\n      \"properties\": {\n        \"dtype\": \"number\",\n        \"std\": 1.0000298360508793,\n        \"min\": -1.7440260696544254,\n        \"max\": 6.739415831768801,\n        \"num_unique_values\": 632,\n        \"samples\": [\n          -0.2631885779858742,\n          1.8099839103500968,\n          0.1383944706022074\n        ],\n        \"semantic_type\": \"\",\n        \"description\": \"\"\n      }\n    },\n    {\n      \"column\": \"country_mean_aqi\",\n      \"properties\": {\n        \"dtype\": \"number\",\n        \"std\": 1.000029836050848,\n        \"min\": -1.4357051426773335,\n        \"max\": 2.24193180388883,\n        \"num_unique_values\": 148,\n        \"samples\": [\n          0.1500976104447042,\n          -0.983416668419144,\n          -0.7871296346588823\n        ],\n        \"semantic_type\": \"\",\n        \"description\": \"\"\n      }\n    },\n    {\n      \"column\": \"aqi_value\",\n      \"properties\": {\n        \"dtype\": \"number\",\n        \"std\": 1.0000298360509077,\n        \"min\": -1.1003715287944122,\n        \"max\": 6.023810745743251,\n        \"num_unique_values\": 341,\n        \"samples\": [\n          4.492039303347729,\n          5.2145730025909005,\n          -0.1032750238388365\n        ],\n        \"semantic_type\": \"\",\n        \"description\": \"\"\n      }\n    }\n  ]\n}"
            }
          },
          "metadata": {},
          "execution_count": 9
        }
      ]
    },
    {
      "cell_type": "code",
      "source": [
        "df_selected.head(1)"
      ],
      "metadata": {
        "colab": {
          "base_uri": "https://localhost:8080/",
          "height": 78
        },
        "id": "SBKFBR6zpAPN",
        "outputId": "754d6607-430f-4bad-99ff-67a83e3f4241"
      },
      "execution_count": null,
      "outputs": [
        {
          "output_type": "execute_result",
          "data": {
            "text/plain": [
              "   co_aqi_value  ozone_aqi_value  distance_from_equator  pm25_no2_ratio  \\\n",
              "0     -0.257657         -1.01031              -1.609334       -0.429844   \n",
              "\n",
              "   ozone_co_ratio  country_mean_aqi  aqi_value  \n",
              "0       -1.493037         -0.836505  -0.609049  "
            ],
            "text/html": [
              "\n",
              "  <div id=\"df-c424bb46-add8-4a15-bbd7-0ba9bfe6f446\" class=\"colab-df-container\">\n",
              "    <div>\n",
              "<style scoped>\n",
              "    .dataframe tbody tr th:only-of-type {\n",
              "        vertical-align: middle;\n",
              "    }\n",
              "\n",
              "    .dataframe tbody tr th {\n",
              "        vertical-align: top;\n",
              "    }\n",
              "\n",
              "    .dataframe thead th {\n",
              "        text-align: right;\n",
              "    }\n",
              "</style>\n",
              "<table border=\"1\" class=\"dataframe\">\n",
              "  <thead>\n",
              "    <tr style=\"text-align: right;\">\n",
              "      <th></th>\n",
              "      <th>co_aqi_value</th>\n",
              "      <th>ozone_aqi_value</th>\n",
              "      <th>distance_from_equator</th>\n",
              "      <th>pm25_no2_ratio</th>\n",
              "      <th>ozone_co_ratio</th>\n",
              "      <th>country_mean_aqi</th>\n",
              "      <th>aqi_value</th>\n",
              "    </tr>\n",
              "  </thead>\n",
              "  <tbody>\n",
              "    <tr>\n",
              "      <th>0</th>\n",
              "      <td>-0.257657</td>\n",
              "      <td>-1.01031</td>\n",
              "      <td>-1.609334</td>\n",
              "      <td>-0.429844</td>\n",
              "      <td>-1.493037</td>\n",
              "      <td>-0.836505</td>\n",
              "      <td>-0.609049</td>\n",
              "    </tr>\n",
              "  </tbody>\n",
              "</table>\n",
              "</div>\n",
              "    <div class=\"colab-df-buttons\">\n",
              "\n",
              "  <div class=\"colab-df-container\">\n",
              "    <button class=\"colab-df-convert\" onclick=\"convertToInteractive('df-c424bb46-add8-4a15-bbd7-0ba9bfe6f446')\"\n",
              "            title=\"Convert this dataframe to an interactive table.\"\n",
              "            style=\"display:none;\">\n",
              "\n",
              "  <svg xmlns=\"http://www.w3.org/2000/svg\" height=\"24px\" viewBox=\"0 -960 960 960\">\n",
              "    <path d=\"M120-120v-720h720v720H120Zm60-500h600v-160H180v160Zm220 220h160v-160H400v160Zm0 220h160v-160H400v160ZM180-400h160v-160H180v160Zm440 0h160v-160H620v160ZM180-180h160v-160H180v160Zm440 0h160v-160H620v160Z\"/>\n",
              "  </svg>\n",
              "    </button>\n",
              "\n",
              "  <style>\n",
              "    .colab-df-container {\n",
              "      display:flex;\n",
              "      gap: 12px;\n",
              "    }\n",
              "\n",
              "    .colab-df-convert {\n",
              "      background-color: #E8F0FE;\n",
              "      border: none;\n",
              "      border-radius: 50%;\n",
              "      cursor: pointer;\n",
              "      display: none;\n",
              "      fill: #1967D2;\n",
              "      height: 32px;\n",
              "      padding: 0 0 0 0;\n",
              "      width: 32px;\n",
              "    }\n",
              "\n",
              "    .colab-df-convert:hover {\n",
              "      background-color: #E2EBFA;\n",
              "      box-shadow: 0px 1px 2px rgba(60, 64, 67, 0.3), 0px 1px 3px 1px rgba(60, 64, 67, 0.15);\n",
              "      fill: #174EA6;\n",
              "    }\n",
              "\n",
              "    .colab-df-buttons div {\n",
              "      margin-bottom: 4px;\n",
              "    }\n",
              "\n",
              "    [theme=dark] .colab-df-convert {\n",
              "      background-color: #3B4455;\n",
              "      fill: #D2E3FC;\n",
              "    }\n",
              "\n",
              "    [theme=dark] .colab-df-convert:hover {\n",
              "      background-color: #434B5C;\n",
              "      box-shadow: 0px 1px 3px 1px rgba(0, 0, 0, 0.15);\n",
              "      filter: drop-shadow(0px 1px 2px rgba(0, 0, 0, 0.3));\n",
              "      fill: #FFFFFF;\n",
              "    }\n",
              "  </style>\n",
              "\n",
              "    <script>\n",
              "      const buttonEl =\n",
              "        document.querySelector('#df-c424bb46-add8-4a15-bbd7-0ba9bfe6f446 button.colab-df-convert');\n",
              "      buttonEl.style.display =\n",
              "        google.colab.kernel.accessAllowed ? 'block' : 'none';\n",
              "\n",
              "      async function convertToInteractive(key) {\n",
              "        const element = document.querySelector('#df-c424bb46-add8-4a15-bbd7-0ba9bfe6f446');\n",
              "        const dataTable =\n",
              "          await google.colab.kernel.invokeFunction('convertToInteractive',\n",
              "                                                    [key], {});\n",
              "        if (!dataTable) return;\n",
              "\n",
              "        const docLinkHtml = 'Like what you see? Visit the ' +\n",
              "          '<a target=\"_blank\" href=https://colab.research.google.com/notebooks/data_table.ipynb>data table notebook</a>'\n",
              "          + ' to learn more about interactive tables.';\n",
              "        element.innerHTML = '';\n",
              "        dataTable['output_type'] = 'display_data';\n",
              "        await google.colab.output.renderOutput(dataTable, element);\n",
              "        const docLink = document.createElement('div');\n",
              "        docLink.innerHTML = docLinkHtml;\n",
              "        element.appendChild(docLink);\n",
              "      }\n",
              "    </script>\n",
              "  </div>\n",
              "\n",
              "\n",
              "    </div>\n",
              "  </div>\n"
            ],
            "application/vnd.google.colaboratory.intrinsic+json": {
              "type": "dataframe",
              "variable_name": "df_selected",
              "summary": "{\n  \"name\": \"df_selected\",\n  \"rows\": 16759,\n  \"fields\": [\n    {\n      \"column\": \"co_aqi_value\",\n      \"properties\": {\n        \"dtype\": \"number\",\n        \"std\": 1.0000298360508693,\n        \"min\": -0.8357126082150659,\n        \"max\": 37.89400835724416,\n        \"num_unique_values\": 30,\n        \"samples\": [\n          27.48900869488197,\n          5.52289829656182,\n          11.303453664540807\n        ],\n        \"semantic_type\": \"\",\n        \"description\": \"\"\n      }\n    },\n    {\n      \"column\": \"ozone_aqi_value\",\n      \"properties\": {\n        \"dtype\": \"number\",\n        \"std\": 1.0000298360508948,\n        \"min\": -1.1609856968692582,\n        \"max\": 5.167382342719345,\n        \"num_unique_values\": 209,\n        \"samples\": [\n          -1.0705804391608498,\n          4.474275366954879,\n          3.630492961676399\n        ],\n        \"semantic_type\": \"\",\n        \"description\": \"\"\n      }\n    },\n    {\n      \"column\": \"distance_from_equator\",\n      \"properties\": {\n        \"dtype\": \"number\",\n        \"std\": 1.0000298360509048,\n        \"min\": -1.949275301506312,\n        \"max\": 2.41540391362614,\n        \"num_unique_values\": 14318,\n        \"samples\": [\n          0.0904421530025013,\n          -0.6267216573667134,\n          0.5353507017344451\n        ],\n        \"semantic_type\": \"\",\n        \"description\": \"\"\n      }\n    },\n    {\n      \"column\": \"pm25_no2_ratio\",\n      \"properties\": {\n        \"dtype\": \"number\",\n        \"std\": 1.0000298360509006,\n        \"min\": -0.8482666698407945,\n        \"max\": 9.35715671818742,\n        \"num_unique_values\": 1571,\n        \"samples\": [\n          -0.6181807607288855,\n          0.3253570197824503,\n          -0.4559248373677097\n        ],\n        \"semantic_type\": \"\",\n        \"description\": \"\"\n      }\n    },\n    {\n      \"column\": \"ozone_co_ratio\",\n      \"properties\": {\n        \"dtype\": \"number\",\n        \"std\": 1.0000298360508793,\n        \"min\": -1.7440260696544254,\n        \"max\": 6.739415831768801,\n        \"num_unique_values\": 632,\n        \"samples\": [\n          -0.2631885779858742,\n          1.8099839103500968,\n          0.1383944706022074\n        ],\n        \"semantic_type\": \"\",\n        \"description\": \"\"\n      }\n    },\n    {\n      \"column\": \"country_mean_aqi\",\n      \"properties\": {\n        \"dtype\": \"number\",\n        \"std\": 1.000029836050848,\n        \"min\": -1.4357051426773335,\n        \"max\": 2.24193180388883,\n        \"num_unique_values\": 148,\n        \"samples\": [\n          0.1500976104447042,\n          -0.983416668419144,\n          -0.7871296346588823\n        ],\n        \"semantic_type\": \"\",\n        \"description\": \"\"\n      }\n    },\n    {\n      \"column\": \"aqi_value\",\n      \"properties\": {\n        \"dtype\": \"number\",\n        \"std\": 1.0000298360509077,\n        \"min\": -1.1003715287944122,\n        \"max\": 6.023810745743251,\n        \"num_unique_values\": 341,\n        \"samples\": [\n          4.492039303347729,\n          5.2145730025909005,\n          -0.1032750238388365\n        ],\n        \"semantic_type\": \"\",\n        \"description\": \"\"\n      }\n    }\n  ]\n}"
            }
          },
          "metadata": {},
          "execution_count": 10
        }
      ]
    },
    {
      "cell_type": "code",
      "source": [
        "df.shape"
      ],
      "metadata": {
        "colab": {
          "base_uri": "https://localhost:8080/"
        },
        "id": "PaKituC0gXUQ",
        "outputId": "5e638287-bfb3-4558-a7e8-320c4f3ec362"
      },
      "execution_count": null,
      "outputs": [
        {
          "output_type": "execute_result",
          "data": {
            "text/plain": [
              "(16759, 7)"
            ]
          },
          "metadata": {},
          "execution_count": 11
        }
      ]
    },
    {
      "cell_type": "markdown",
      "source": [
        "#**Sección 1: Comparativa de Modelos**\n",
        "---\n",
        "\n",
        "La variable objetivo para el modelo es **aqi_value**, en el avance 3 se exploraron diferentes modelos para usar como baseline ya que no estabamos seguros de los datos y su comportamiento. Esta sección explorará algunos de esos modelos y unos nuevos.\n",
        "\n",
        "Modelos propuestos:\n",
        "\n",
        "* Linear Regression (baseline simple)\n",
        "* Ridge Regression (regularización L2)\n",
        "* Lasso Regression (regularización L1 + selección de features)\n",
        "* Decision Tree Regressor (no lineal, interpretable)\n",
        "* Random Forest Regressor (ensemble de árboles, robusto)\n",
        "* Gradient Boosting Regressor (XGBoost o LightGBM - state-of-the-art)\n",
        "* Support Vector Regressor (SVR) (efectivo en espacios de alta dimensionalidad)\n",
        "* K-Nearest Neighbors (KNN) (basado en instancias)\n",
        "\n",
        "Métricas a comparar:\n",
        "\n",
        "* Principal: RMSE (Root Mean Squared Error) - penaliza errores grandes\n",
        "* Secundaria 1: MAE (Mean Absolute Error) - interpretable en unidades de AQI\n",
        "* Secundaria 2: R² Score - % de varianza explicada\n",
        "* Tiempo de entrenamiento (segundos)\n"
      ],
      "metadata": {
        "id": "b1o0q7KYS8Qv"
      }
    },
    {
      "cell_type": "code",
      "source": [
        "# Test"
      ],
      "metadata": {
        "id": "alXG0C2Wqyys"
      },
      "execution_count": null,
      "outputs": []
    },
    {
      "cell_type": "markdown",
      "source": [
        "### **Linear Regression (baseline simple)**"
      ],
      "metadata": {
        "id": "vf6fU3ixiKHf"
      }
    },
    {
      "cell_type": "code",
      "source": [
        "# Test"
      ],
      "metadata": {
        "id": "VnsogvoNrAiY"
      },
      "execution_count": null,
      "outputs": []
    },
    {
      "cell_type": "markdown",
      "source": [
        "### **Ridge Regression (regularización L2)**"
      ],
      "metadata": {
        "id": "2QZDlPM4u9Rn"
      }
    },
    {
      "cell_type": "code",
      "source": [
        "# Test"
      ],
      "metadata": {
        "id": "PVi2FoAZu9Rv"
      },
      "execution_count": null,
      "outputs": []
    },
    {
      "cell_type": "markdown",
      "source": [
        "### **Lasso Regression (regularización L1 + selección de features)**"
      ],
      "metadata": {
        "id": "BaFUW2D4u9dA"
      }
    },
    {
      "cell_type": "code",
      "source": [
        "# Test"
      ],
      "metadata": {
        "id": "gF4m2_W4u9dC"
      },
      "execution_count": null,
      "outputs": []
    },
    {
      "cell_type": "markdown",
      "source": [
        "### **Decision Tree Regressor (no lineal, interpretable)**"
      ],
      "metadata": {
        "id": "qaUx3F3wu-FU"
      }
    },
    {
      "cell_type": "code",
      "source": [
        "# Test"
      ],
      "metadata": {
        "id": "swV8Nehdu-FV"
      },
      "execution_count": null,
      "outputs": []
    },
    {
      "cell_type": "markdown",
      "source": [
        "### **Random Forest Regressor (ensemble de árboles, robusto)**"
      ],
      "metadata": {
        "id": "GAGK2sxDu-RE"
      }
    },
    {
      "cell_type": "code",
      "source": [
        "# Test"
      ],
      "metadata": {
        "id": "KfftoDm9u-RF"
      },
      "execution_count": null,
      "outputs": []
    },
    {
      "cell_type": "markdown",
      "source": [
        "### **Gradient Boosting Regressor (XGBoost o LightGBM)**"
      ],
      "metadata": {
        "id": "_IOO9DFou-bF"
      }
    },
    {
      "cell_type": "code",
      "source": [
        "# Test"
      ],
      "metadata": {
        "id": "Nn6Ybkhlu-bG"
      },
      "execution_count": null,
      "outputs": []
    },
    {
      "cell_type": "markdown",
      "source": [
        "### **Support Vector Regressor (SVR) (efectivo en espacios de alta dimensionalidad)**"
      ],
      "metadata": {
        "id": "QMeTscnZu-lh"
      }
    },
    {
      "cell_type": "code",
      "source": [
        "# Test"
      ],
      "metadata": {
        "id": "fC2HB-DIu-lj"
      },
      "execution_count": null,
      "outputs": []
    },
    {
      "cell_type": "markdown",
      "source": [
        "### **K-Nearest Neighbors (KNN) (basado en instancias)**"
      ],
      "metadata": {
        "id": "WJAYfbY1u-tC"
      }
    },
    {
      "cell_type": "code",
      "source": [
        "# Test"
      ],
      "metadata": {
        "id": "aDzpx0Thu-tC"
      },
      "execution_count": null,
      "outputs": []
    },
    {
      "cell_type": "markdown",
      "source": [
        "#**Sección 2: Ajuste Fino de Hiperparámetros**\n",
        "---\n",
        "\n",
        "Para los 2 mejores modelos, usaremos:\n",
        "\n",
        "* GridSearchCV o RandomizedSearchCV con validación cruzada\n",
        "* Ajustar hiperparámetros clave según el algoritmo:\n",
        "  * Random Forest: n_estimators, max_depth, min_samples_split\n",
        "  * XGBoost: learning_rate, max_depth, n_estimators, subsample\n",
        "  * SVR: C, epsilon, kernel"
      ],
      "metadata": {
        "id": "7B2hN3Vonzlv"
      }
    },
    {
      "cell_type": "code",
      "source": [
        "# Test"
      ],
      "metadata": {
        "id": "1UOzRmiqqwWX"
      },
      "execution_count": null,
      "outputs": []
    },
    {
      "cell_type": "markdown",
      "source": [
        "#**Sección 3: Selección del Modelo Final**\n",
        "---\n",
        "Criterios de decisión:\n",
        "\n",
        "* Performance en métricas principales\n",
        "* Trade-off precisión vs tiempo de inferencia\n",
        "* Interpretabilidad (importante para stakeholders)\n",
        "* Robustez ante overfitting\n",
        "* Aplicabilidad en producción\n"
      ],
      "metadata": {
        "id": "5z-hBpAPeimZ"
      }
    },
    {
      "cell_type": "code",
      "source": [
        "#Test"
      ],
      "metadata": {
        "id": "zwS7SQJ8b1SS"
      },
      "execution_count": null,
      "outputs": []
    },
    {
      "cell_type": "markdown",
      "source": [
        "###**Sección 3.1**"
      ],
      "metadata": {
        "id": "sWGqdGDpva6D"
      }
    },
    {
      "cell_type": "code",
      "source": [
        "# Test"
      ],
      "metadata": {
        "id": "6wyy2QGkvfXh"
      },
      "execution_count": null,
      "outputs": []
    },
    {
      "cell_type": "markdown",
      "source": [
        "# **Conclusiones**\n",
        "\n",
        "---\n",
        "\n",
        "Se estableció desempeño mínimo basado en:\n",
        "* (1) baseline ingenuo (DummyRegressor, R²≈0)\n"
      ],
      "metadata": {
        "id": "6fcjPcHCtjh4"
      }
    }
  ]
}